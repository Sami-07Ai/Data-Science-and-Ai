{
 "cells": [
  {
   "cell_type": "markdown",
   "id": "130e3066",
   "metadata": {},
   "source": [
    "# Automatic EDA using `ydata_profiling`"
   ]
  },
  {
   "cell_type": "code",
   "execution_count": null,
   "id": "585b1aba",
   "metadata": {},
   "outputs": [],
   "source": [
    "# importing liraries \n",
    "import pandas as pd\n",
    "import seaborn as sns\n",
    "import ydata_profiling as yd\n",
    "\n"
   ]
  },
  {
   "cell_type": "code",
   "execution_count": 7,
   "id": "b3bddbf7",
   "metadata": {},
   "outputs": [],
   "source": [
    "df = sns.load_dataset(\"titanic\")"
   ]
  },
  {
   "cell_type": "code",
   "execution_count": 24,
   "id": "1a8c9604",
   "metadata": {},
   "outputs": [
    {
     "name": "stderr",
     "output_type": "stream",
     "text": [
      "100%|██████████| 15/15 [00:00<00:00, 26.36it/s]0<00:00, 18.64it/s, Describe variable: alone]    \n",
      "Summarize dataset: 100%|██████████| 41/41 [00:10<00:00,  3.95it/s, Completed]                 \n",
      "Generate report structure: 100%|██████████| 1/1 [00:10<00:00, 10.39s/it]\n",
      "Render HTML: 100%|██████████| 1/1 [00:05<00:00,  5.48s/it]\n",
      "Export report to file: 100%|██████████| 1/1 [00:00<00:00, 20.93it/s]\n"
     ]
    }
   ],
   "source": [
    "# ydata_profile report\n",
    "profile = yd.ProfileReport(df)\n",
    "profile.to_file(output_file='./outputs_ydata/03_ydata_titanic.html')\n",
    "\n"
   ]
  },
  {
   "cell_type": "markdown",
   "id": "72326e96",
   "metadata": {},
   "source": [
    "# Do it on our pak population dataset"
   ]
  },
  {
   "cell_type": "code",
   "execution_count": 25,
   "id": "77edec4b",
   "metadata": {},
   "outputs": [],
   "source": [
    "df_pop = pd.read_csv('./dataset/data.csv')"
   ]
  },
  {
   "cell_type": "code",
   "execution_count": 26,
   "id": "815279ae",
   "metadata": {},
   "outputs": [
    {
     "name": "stderr",
     "output_type": "stream",
     "text": [
      "100%|██████████| 21/21 [00:00<00:00, 35.93it/s]0<00:00, 23.68it/s, Describe variable: ANNUAL GROWTH RATE (URBAN)]\n",
      "Summarize dataset: 100%|██████████| 319/319 [02:05<00:00,  2.53it/s, Completed]                                                     \n",
      "Generate report structure: 100%|██████████| 1/1 [00:20<00:00, 20.24s/it]\n",
      "Render HTML: 100%|██████████| 1/1 [00:28<00:00, 28.21s/it]\n",
      "Export report to file: 100%|██████████| 1/1 [00:00<00:00,  2.58it/s]\n"
     ]
    }
   ],
   "source": [
    "profile = yd.ProfileReport(df_pop)\n",
    "profile.to_file(output_file='./outputs_ydata/03_ydata_pak_population.html')"
   ]
  }
 ],
 "metadata": {
  "kernelspec": {
   "display_name": "ydata_profiling",
   "language": "python",
   "name": "python3"
  },
  "language_info": {
   "codemirror_mode": {
    "name": "ipython",
    "version": 3
   },
   "file_extension": ".py",
   "mimetype": "text/x-python",
   "name": "python",
   "nbconvert_exporter": "python",
   "pygments_lexer": "ipython3",
   "version": "3.10.0"
  }
 },
 "nbformat": 4,
 "nbformat_minor": 5
}
